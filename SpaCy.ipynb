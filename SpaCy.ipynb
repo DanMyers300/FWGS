{
  "cells": [
    {
      "cell_type": "markdown",
      "metadata": {
        "id": "XZnU2qdgrp_G"
      },
      "source": [
        "Working off this tutorial: \n",
        "https://www.youtube.com/playlist?list=PL2VXyKi-KpYs1bSnT8bfMFyGS-wMcjesM"
      ]
    },
    {
      "cell_type": "code",
      "execution_count": null,
      "metadata": {
        "id": "qi6qb-0WPU9m"
      },
      "outputs": [],
      "source": [
        "%pip install spacy\n",
        "%python -m spacy download en_core_web_lg\n",
        "%pip install spacypdfreader"
      ]
    },
    {
      "cell_type": "code",
      "execution_count": 23,
      "metadata": {
        "id": "9cU7HMdhPcrI"
      },
      "outputs": [],
      "source": [
        "import spacy\n",
        "from spacypdfreader import pdf_reader\n",
        "from spacy.pipeline import EntityRuler\n",
        "import json\n"
      ]
    },
    {
      "cell_type": "code",
      "execution_count": 24,
      "metadata": {},
      "outputs": [],
      "source": [
        "nlp = spacy.load(\"en_core_web_lg\")"
      ]
    },
    {
      "cell_type": "code",
      "execution_count": null,
      "metadata": {},
      "outputs": [],
      "source": [
        "# doc = pdf_reader('./6001149485.pdf', nlp)"
      ]
    },
    {
      "cell_type": "code",
      "execution_count": null,
      "metadata": {
        "id": "28CwmgC-SdTQ"
      },
      "outputs": [],
      "source": [
        "# for entity in doc.ents:\n",
        "#   print(entity.label_, ' | ', entity.text)"
      ]
    },
    {
      "cell_type": "code",
      "execution_count": 41,
      "metadata": {},
      "outputs": [],
      "source": [
        "# with open ('text.txt', 'w') as textFile:\n",
        "#     textFile.write(doc.text)"
      ]
    },
    {
      "cell_type": "code",
      "execution_count": 49,
      "metadata": {},
      "outputs": [],
      "source": [
        "with open ('text.txt', 'r') as textFile:\n",
        "    text = textFile.read()\n",
        "    text = text.split(\"\\n\\n\")"
      ]
    },
    {
      "cell_type": "code",
      "execution_count": 50,
      "metadata": {},
      "outputs": [],
      "source": [
        "with open ('data.json', 'w') as jsonFile:\n",
        "    json.dump(text, jsonFile)"
      ]
    },
    {
      "cell_type": "code",
      "execution_count": 59,
      "metadata": {},
      "outputs": [],
      "source": [
        "def generate_better_data(text):\n",
        "    data = []\n",
        "    for item in text:\n",
        "        item = item.split(\"\\n\")\n",
        "        item = [i for i in item if i != '']\n",
        "        data.append(item)\n",
        "    return data"
      ]
    },
    {
      "cell_type": "code",
      "execution_count": null,
      "metadata": {},
      "outputs": [],
      "source": [
        "print(generate_better_data(text))"
      ]
    }
  ],
  "metadata": {
    "colab": {
      "provenance": []
    },
    "kernelspec": {
      "display_name": "Python 3",
      "name": "python3"
    },
    "language_info": {
      "codemirror_mode": {
        "name": "ipython",
        "version": 3
      },
      "file_extension": ".py",
      "mimetype": "text/x-python",
      "name": "python",
      "nbconvert_exporter": "python",
      "pygments_lexer": "ipython3",
      "version": "3.10.11"
    }
  },
  "nbformat": 4,
  "nbformat_minor": 0
}
