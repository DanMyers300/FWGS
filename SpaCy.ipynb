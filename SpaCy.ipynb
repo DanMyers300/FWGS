{
  "nbformat": 4,
  "nbformat_minor": 0,
  "metadata": {
    "colab": {
      "provenance": []
    },
    "kernelspec": {
      "name": "python3",
      "display_name": "Python 3"
    },
    "language_info": {
      "name": "python"
    }
  },
  "cells": [
    {
      "cell_type": "markdown",
      "source": [
        "Working off this tutorial: \n",
        "https://www.youtube.com/playlist?list=PL2VXyKi-KpYs1bSnT8bfMFyGS-wMcjesM"
      ],
      "metadata": {
        "id": "XZnU2qdgrp_G"
      }
    },
    {
      "cell_type": "code",
      "source": [
        "!pip install spacy\n",
        "!python -m spacy download en_core_web_lg\n",
        "!pip install spacypdfreader"
      ],
      "metadata": {
        "id": "qi6qb-0WPU9m"
      },
      "execution_count": null,
      "outputs": []
    },
    {
      "cell_type": "code",
      "source": [
        "import spacy\n",
        "from spacypdfreader import pdf_reader\n",
        "nlp = spacy.load(\"en_core_web_lg\")\n",
        "doc = pdf_reader('/content/6001149485.pdf', nlp)"
      ],
      "metadata": {
        "id": "9cU7HMdhPcrI"
      },
      "execution_count": 102,
      "outputs": []
    },
    {
      "cell_type": "code",
      "source": [
        "text = doc.text.split(\"\\n\\n\")\n",
        "print(text)"
      ],
      "metadata": {
        "id": "f0-3kQJlipO1"
      },
      "execution_count": null,
      "outputs": []
    },
    {
      "cell_type": "code",
      "source": [
        "for entity in doc.ents:\n",
        "  print(entity.label_, ' | ', entity.text)"
      ],
      "metadata": {
        "id": "28CwmgC-SdTQ"
      },
      "execution_count": null,
      "outputs": []
    }
  ]
}